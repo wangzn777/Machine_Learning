{
  "nbformat": 4,
  "nbformat_minor": 0,
  "metadata": {
    "kernelspec": {
      "display_name": "Python 3",
      "language": "python",
      "name": "python3"
    },
    "language_info": {
      "codemirror_mode": {
        "name": "ipython",
        "version": 3
      },
      "file_extension": ".py",
      "mimetype": "text/x-python",
      "name": "python",
      "nbconvert_exporter": "python",
      "pygments_lexer": "ipython3",
      "version": "3.8.7"
    },
    "colab": {
      "name": "assignment1.ipynb",
      "provenance": [],
      "collapsed_sections": []
    }
  },
  "cells": [
    {
      "cell_type": "markdown",
      "metadata": {
        "id": "rxQvA4BSAU0u"
      },
      "source": [
        "# Assignment 1: k-nearest neighbors (100 points)\n",
        "\n",
        "Only use the already imported libraries `numpy` and `matplotlib.pyplot` for the assignment. Do not import any other library. "
      ]
    },
    {
      "cell_type": "markdown",
      "metadata": {
        "id": "XnIz7wWXAU00"
      },
      "source": [
        "Group members:\n",
        "- Wang, Jiahui - B.Sc.Mathematik - 2992080 \\\\\n",
        "- Zhao, Jiaqi - M.Sc.Autonome System - 3470190 \\\\\n",
        "- Wang, Ziyin - M.Sc.Informatik - 3435397\n"
      ]
    },
    {
      "cell_type": "code",
      "metadata": {
        "id": "D2uv40fQAU02"
      },
      "source": [
        "# Load required packages and dataset. Do not modify.\n",
        "import matplotlib.pyplot as plt\n",
        "import numpy as np\n",
        "\n",
        "\n",
        "def load_wine_dataset():\n",
        "    from sklearn import datasets\n",
        "    wine = datasets.load_wine()\n",
        "    X = wine.data\n",
        "    y = wine.target\n",
        "    return X, y\n",
        "    \n",
        "X, y = load_wine_dataset()"
      ],
      "execution_count": 63,
      "outputs": []
    },
    {
      "cell_type": "markdown",
      "metadata": {
        "id": "8Jc6vKK7AU04"
      },
      "source": [
        "## Task 1: Visualization and Preprocessing (25 points)\n",
        "\n",
        "1) *(5 Points)* Explain the content of the dataset in few words. What are the input features? What is the classification target? Check out: [http://archive.ics.uci.edu/ml/datasets/Wine).\n"
      ]
    },
    {
      "cell_type": "markdown",
      "metadata": {
        "id": "8LngCLI1AU06"
      },
      "source": [
        "- The dataset consists of `178` samples/instances of wines. \n",
        "Each wine samples is described by 13 (input) features `Alcohol`, `Malic acid`, `Ash`, `Alkalinity of ash`, `Magnesium`, `Total phenols`, `Flavanoids`, `Nonflavanoid phenols`, `Proanthocyanins`, `Color intensity`, `Hue`, `OD280/OD315 of diluted wines` and `Proline` and belongs to one of three types of wine. \n",
        "The classification target is the type of wine. All features are integral and real.\n"
      ]
    },
    {
      "cell_type": "markdown",
      "metadata": {
        "id": "rGLZsrDlAU07"
      },
      "source": [
        "2) *(5 Points)* Compute and print the following statistics about the dataset:\n",
        "  - Number of samples\n",
        "  - Number of samples per class\n",
        "  - Mean and standard deviation for each input feature\n"
      ]
    },
    {
      "cell_type": "code",
      "metadata": {
        "colab": {
          "base_uri": "https://localhost:8080/"
        },
        "id": "pXW7nhauAU08",
        "outputId": "b4bdd379-0e05-4915-ccef-736fdb9cab83"
      },
      "source": [
        "# Number of samples\n",
        "print('Number of total samples:', len(X) )\n",
        "# Number of samples per class\n",
        "print('Number of samples per class:', len(y[y == 0]), 'samples from class 0', ',', len(y[y == 1]), 'samples from class 1', ',', len(y[y == 2]), 'samples from class 0')\n",
        "# Mean and standard deviation for each input feature\n",
        "for i in range(X.shape[1]):\n",
        "    print(f'The {i + 1}-th input feature - Mean value : {np.mean(X[: ,i]):6f} , - Standard deviation value : {np.std(X[: ,i]):6f}')"
      ],
      "execution_count": 64,
      "outputs": [
        {
          "output_type": "stream",
          "text": [
            "Number of total samples: 178\n",
            "Number of samples per class: 59 samples from class 0 , 71 samples from class 1 , 48 samples from class 0\n",
            "The 1-th input feature - Mean value : 13.000618 , - Standard deviation value : 0.809543\n",
            "The 2-th input feature - Mean value : 2.336348 , - Standard deviation value : 1.114004\n",
            "The 3-th input feature - Mean value : 2.366517 , - Standard deviation value : 0.273572\n",
            "The 4-th input feature - Mean value : 19.494944 , - Standard deviation value : 3.330170\n",
            "The 5-th input feature - Mean value : 99.741573 , - Standard deviation value : 14.242308\n",
            "The 6-th input feature - Mean value : 2.295112 , - Standard deviation value : 0.624091\n",
            "The 7-th input feature - Mean value : 2.029270 , - Standard deviation value : 0.996049\n",
            "The 8-th input feature - Mean value : 0.361854 , - Standard deviation value : 0.124103\n",
            "The 9-th input feature - Mean value : 1.590899 , - Standard deviation value : 0.570749\n",
            "The 10-th input feature - Mean value : 5.058090 , - Standard deviation value : 2.311765\n",
            "The 11-th input feature - Mean value : 0.957449 , - Standard deviation value : 0.227929\n",
            "The 12-th input feature - Mean value : 2.611685 , - Standard deviation value : 0.707993\n",
            "The 13-th input feature - Mean value : 746.893258 , - Standard deviation value : 314.021657\n"
          ],
          "name": "stdout"
        }
      ]
    },
    {
      "cell_type": "markdown",
      "metadata": {
        "id": "3c0JzopGAU09"
      },
      "source": [
        "3) *(5 Points)* Visualize the variables *alcohol* and *magnesium* in a scatter plot (*alcohol* on the x-axis, *magnesium* on the y-axis). Color each point of the plot according to its class."
      ]
    },
    {
      "cell_type": "code",
      "metadata": {
        "colab": {
          "base_uri": "https://localhost:8080/",
          "height": 350
        },
        "id": "p_wQTIMWAU09",
        "outputId": "cbb122d0-a223-4c3b-ca48-99bf2bb30d70"
      },
      "source": [
        "X0, X4 = X[:, 0], X[:, 4]\n",
        "colors = ['#bad6eb','#539ecd','#0b559f']\n",
        "fig = plt.figure(figsize=(7,5))\n",
        "for i, cls in enumerate(np.unique(y)):\n",
        "    idx = y == cls\n",
        "    x1 = X0[idx]  # Class-cls of Alcohol\n",
        "    x2 = X4[idx]  # Class-cls of Magnesium\n",
        "    # draw scatter\n",
        "    plt.scatter(x1, x2, c=f'{colors[cls]}', label=f'Category {cls}')\n",
        "plt.xlabel('Alcohol')\n",
        "plt.ylabel('Magnesium')\n",
        "plt.title('Alcohol and magnesium data of wine')\n",
        "plt.legend();"
      ],
      "execution_count": 65,
      "outputs": [
        {
          "output_type": "display_data",
          "data": {
            "image/png": "[encoded data removed]",
            "text/plain": [
              "<Figure size 504x360 with 1 Axes>"
            ]
          },
          "metadata": {
            "tags": [],
            "needs_background": "light"
          }
        }
      ]
    },
    {
      "cell_type": "markdown",
      "metadata": {
        "id": "e4QxxY-VAU0-"
      },
      "source": [
        "4) *(5 Points)* Split the dataset randomly into training and test data. 70% of data should be used for training and 30% should be used for testing. Implement the function `train_test_split`. Do not modify the interface of the function."
      ]
    },
    {
      "cell_type": "code",
      "metadata": {
        "scrolled": true,
        "id": "HepXAwPpAU0-"
      },
      "source": [
        "def train_test_split(X, y):\n",
        "    \"\"\"\n",
        "    Returns X_train, X_test, y_train, y_test, \n",
        "        where X_train and X_test are the input features of the training and test set,\n",
        "        and y_train and y_test are the class labels of the training and test set.\n",
        "    \"\"\"\n",
        "    np.random.seed(1234567)\n",
        "    # set random index number\n",
        "    index_random = np.random.choice(np.arange(X.shape[0]),X.shape[0],replace=False)\n",
        "    # choose the 70% index number as training index and 30% as testing index\n",
        "    index_train = index_random[:np.int(index_random.__len__()*.7)]\n",
        "    index_test = index_random[np.int(index_random.__len__()*.7):]\n",
        "    # split the dataset\n",
        "    X_train, y_train = X[index_train], y[index_train]\n",
        "    X_test, y_test = X[index_test], y[index_test]\n",
        "    \n",
        "    return X_train, X_test, y_train, y_test\n",
        "\n",
        "X_train, X_test, y_train, y_test = train_test_split(X, y)\n",
        "\n",
        "assert (X_train.shape[0] + X_test.shape[0]) == X.shape[0]\n",
        "assert (y_train.shape[0] + y_test.shape[0]) == y.shape[0]\n",
        "assert X_train.shape[1] == X_test.shape[1]"
      ],
      "execution_count": 66,
      "outputs": []
    },
    {
      "cell_type": "markdown",
      "metadata": {
        "id": "l7ehgshXAU1A"
      },
      "source": [
        "5) *(5 Points)* kNN uses a distance measure to identify close neighbors. If the input features are not of the same scale, the distance is not as meaningful, which can negatively impact classification performance. Perform min-max scaling (i.e. scale the values of the input features in such a way that their range is from 0 to 1) on the training and test data. Remember that you should only use information from the training data to perform the scaling on both data sets."
      ]
    },
    {
      "cell_type": "code",
      "metadata": {
        "id": "lGYF7EAXqF1l"
      },
      "source": [
        "Xmin = np.min(X_train, axis=0)\n",
        "Xmax = np.max(X_train, axis=0)\n",
        "X_train = (X_train - Xmin) / (Xmax - Xmin)\n",
        "X_test = (X_test - Xmin) / (Xmax - Xmin)"
      ],
      "execution_count": 67,
      "outputs": []
    },
    {
      "cell_type": "markdown",
      "metadata": {
        "id": "LyTcK3_gAU1A"
      },
      "source": [
        "## Task 2: k-nearest neighbors (50 Points)\n",
        "*Choose classes randomly if weights are equal for multiple classes*\n",
        "\n",
        "**For B.Sc. Data Science:**  \n",
        "\n",
        "Implement the kNN algorithm with uniform weighting and arbitrary `k`. Fill out the `predict` method of class `KNearestNeighbors`. \n",
        "\n",
        "Use Euclidean distance to determine the nearest neighbors.\n",
        "You can ignore the optional parameter `weights`, which is provided as a field in the kNN class.\n",
        "\n",
        "**For all students other than B.Sc. Data Science:**\n",
        "\n",
        "Implement the kNN algorithm with uniform and distance-based weighting and arbitrary `k`.\n",
        "Fill out the `predict` method of class `KNearestNeighbors`.\n",
        "\n",
        "The parameter `weights` will either contain the string `uniform` or `distance`. \n",
        "- If the value is `uniform`, the classifier should use the Euclidean distance for determining nearest neighbors and uniform weighting. \n",
        "- If the value is a `distance`, the classifier should use the Euclidean distance for determining neares neighbors and perform distance-weighted classification."
      ]
    },
    {
      "cell_type": "code",
      "metadata": {
        "id": "T-t6I3YrAU1B"
      },
      "source": [
        "# Assistant Function to calculate the k_closest point of P in given pSet\n",
        "def k_closest_point(P,pSet,k):\n",
        "    \"\"\"\n",
        "    Returns a vector of k_closest_point, a vector of distance and a vector of index\n",
        "    \"\"\"\n",
        "    distance_set = np.array([euclidean_distance(P,x) for x in pSet])\n",
        "    selected_index_list = np.argsort(distance_set)[:k]\n",
        "    return pSet[selected_index_list,:], distance_set[selected_index_list], selected_index_list\n",
        "\n",
        "# Define the classifier\n",
        "class KNearestNeighbors(object):\n",
        "    def __init__(self, k, weights='uniform'):\n",
        "        self.k = k\n",
        "        self.weights = weights\n",
        "        \n",
        "    def fit(self, training_X, training_y):\n",
        "        \"\"\"\n",
        "        This functions saves the training data to be used during the prediction.\n",
        "        \"\"\"\n",
        "        self.training_X = training_X\n",
        "        self.training_y = training_y\n",
        "    \n",
        "    def predict(self, testing_X):\n",
        "        \"\"\"\n",
        "        Returns a vector of shape (n,) if X has shape (n,d), \n",
        "        where n is the number of samples and d is the number of features.\n",
        "        \"\"\"\n",
        "        y_pred = np.array([])\n",
        "\n",
        "        # Calculate the k_closest point of each P in Test set and predict the label\n",
        "        for P in testing_X:\n",
        "            _,distance_list,index_list = k_closest_point(P, self.training_X, self.k)\n",
        "    \n",
        "            if self.weights == 'uniform':\n",
        "                labels = self.training_y[index_list]\n",
        "                counter = np.bincount(labels)\n",
        "                y_P = np.random.choice(np.flatnonzero(counter == counter.max()))\n",
        "                \n",
        "    \n",
        "            elif self.weights == 'distance':\n",
        "                if distance_list[0] == 0:\n",
        "                    y_P = self.training_y[index_list[0]]\n",
        "                else:\n",
        "                    weighted_sum = np.zeros((3,1))\n",
        "                    for i, j in enumerate(index_list):\n",
        "                        l = self.training_y[j]\n",
        "                        weighted_sum[l] += 1/distance_list[i]   \n",
        "                        \n",
        "                    y_P = weighted_sum.argmax()\n",
        "                \n",
        "            else:\n",
        "                InterruptedError(\"Please enter the correct type of classifier.\")\n",
        "    \n",
        "            y_pred = np.append(y_pred,y_P)\n",
        "\n",
        "\n",
        "        return y_pred\n",
        "\n",
        "def euclidean_distance(x1, x2):\n",
        "    \"\"\"\n",
        "    Given vectors x1 and x2 with shape (n,) returns distance between vectors as float.\n",
        "    \"\"\"\n",
        "    return np.sqrt(np.sum((x1 - x2)*(x1 - x2)))"
      ],
      "execution_count": 68,
      "outputs": []
    },
    {
      "cell_type": "markdown",
      "metadata": {
        "id": "V_8YhjQfAU1C"
      },
      "source": [
        "## Task 3: Evaluation (25 Points)\n",
        "\n",
        "1) *(10 Points)* Implement functions to compute precision, recall and F1-score. `y_pred` and `y_true` are the vectors of predicted and true class labels respectively with shape `(n,)`, where `n` is the number of samples. Each function should return a float containing the corresponding score. It is advisable to implement a function for the confusion matrix and reuse it."
      ]
    },
    {
      "cell_type": "code",
      "metadata": {
        "id": "4-FX2pErAU1D"
      },
      "source": [
        "def confusion_matrix(y_pred,y_true):\n",
        "    conf_matrix = np.zeros((3,3))\n",
        "    for k in range(len(y_pred)):\n",
        "        i = int(y_pred[k])\n",
        "        j = int(y_true[k])\n",
        "        conf_matrix[i][j] += 1\n",
        "    return conf_matrix\n",
        "\n",
        "def recall(y_pred, y_true):\n",
        "    conf_matrix = confusion_matrix(y_pred,y_true)\n",
        "    recalls = np.empty((3,1))\n",
        "    for i in range(3):\n",
        "        recalls[i] = conf_matrix[i,i]/sum(conf_matrix[:,i])\n",
        "    return np.mean(recalls)\n",
        "\n",
        "def precision(y_pred, y_true):\n",
        "    conf_matrix = confusion_matrix(y_pred,y_true)\n",
        "    precisions = np.empty((3,1))\n",
        "    for i in range(3):\n",
        "        precisions[i] = conf_matrix[i,i]/sum(conf_matrix[i,:])\n",
        "    return np.mean(precisions)\n",
        "    \n",
        "def f1score(y_pred, y_true):\n",
        "    r = recall(y_pred, y_true)\n",
        "    p = precision(y_pred, y_true)\n",
        "    F1 = 2*r*p/(r+p)\n",
        "    return F1"
      ],
      "execution_count": 69,
      "outputs": []
    },
    {
      "cell_type": "markdown",
      "metadata": {
        "id": "0XxnIAbZAU1E"
      },
      "source": [
        "2) *(10 Points)* Evaluate the performance of kNN with uniform weighting on the Wine dataset for `k=1,5,9`. Train each of the `3` classifiers on the training data from Task 1. Perform the predictions on both the training and test data. Then compute precision, recall, and F1-score for each model and for both training and test data. Visualize the performance in a plot, what do you observe?\n",
        "\n",
        "**For all students other than B.Sc. Data Science:** \n",
        "\n",
        "Also evaluate the kNN classifier with Euclidean distance-weighting. Compare the performance to uniform-weighting. How does the performance change compared to uniform weighting for each `k`?"
      ]
    },
    {
      "cell_type": "code",
      "metadata": {
        "id": "N-vk9sTBAU1E",
        "colab": {
          "base_uri": "https://localhost:8080/",
          "height": 568
        },
        "outputId": "7eba9435-3c14-429a-fca2-7cccb7c82dda"
      },
      "source": [
        "kSet = [1,5,9]\n",
        "l = len(kSet)\n",
        "F1_on_train_uni  = np.zeros((l,1))\n",
        "F1_on_train_dist = np.zeros((l,1))\n",
        "F1_on_test_uni   = np.zeros((l,1))\n",
        "F1_on_test_dist  = np.zeros((l,1))\n",
        "for i in range(l):\n",
        "    k = kSet[i]\n",
        "    # Set classifier\n",
        "    classifier_1 = KNearestNeighbors(k,'uniform')\n",
        "    classifier_2 = KNearestNeighbors(k,'distance')\n",
        "\n",
        "    classifier_1.fit(X_train, y_train)\n",
        "    classifier_2.fit(X_train, y_train)\n",
        "    # Use classifier to predict the label of train dataset and test dataset\n",
        "    y_pred_train1 = classifier_1.predict(X_train)\n",
        "    y_pred_train2 = classifier_2.predict(X_train)\n",
        "\n",
        "    y_pred_test1  = classifier_1.predict(X_test)\n",
        "    y_pred_test2  = classifier_2.predict(X_test)\n",
        "    # Evaluate the results on both train dataset and test dataset\n",
        "    recall_on_train1    = recall(y_pred_train1, y_train)\n",
        "    precision_on_train1 = precision(y_pred_train1, y_train)\n",
        "    f1score_on_train1   = f1score(y_pred_train1, y_train)\n",
        "    F1_on_train_uni[i]  = f1score_on_train1\n",
        "\n",
        "    recall_on_train2    = recall(y_pred_train2, y_train)\n",
        "    precision_on_train2 = precision(y_pred_train2, y_train)\n",
        "    f1score_on_train2   = f1score(y_pred_train2, y_train)\n",
        "    F1_on_train_dist[i] = f1score_on_train2\n",
        "\n",
        "    recall_on_test1     = recall(y_pred_test1,  y_test)\n",
        "    precision_on_test1  = precision(y_pred_test1,  y_test)\n",
        "    f1score_on_test1    = f1score(y_pred_test1,  y_test)\n",
        "    F1_on_test_uni[i]   = f1score_on_test1\n",
        "\n",
        "    recall_on_test2     = recall(y_pred_test2,  y_test)\n",
        "    precision_on_test2  = precision(y_pred_test2,  y_test)\n",
        "    f1score_on_test2    = f1score(y_pred_test2,  y_test)\n",
        "    F1_on_test_dist[i]  = f1score_on_test2\n",
        "\n",
        "    print(\"k={}\".format(k))\n",
        "    print(\"r,p,F1 for classifier with uniform on train dataset are {:5f},{:5f},{:5f}\".format(recall_on_train1,precision_on_train1,f1score_on_train1))\n",
        "    print(\"r,p,F1 for classifier with distance on train dataset are {:5f},{:5f},{:5f}\".format(recall_on_train2,precision_on_train2,f1score_on_train2))\n",
        "    print(\"r,p,F1 for classifier with uniform on test dataset are {:5f},{:5f},{:5f}\".format(recall_on_test1,precision_on_test1,f1score_on_test1))\n",
        "    print(\"r,p,F1 for classifier with distance on test dataset are {:5f},{:5f},{:5f}\".format(recall_on_test2,precision_on_test2,f1score_on_test2))\n",
        "\n",
        "# Creat plot\n",
        "fig, ax = plt.subplots()\n",
        "\n",
        "ax.scatter(kSet, F1_on_train_uni, alpha = 0.6, c=\"darkcyan\", s=70, label = \"F1 with uniform on train\")\n",
        "ax.scatter(kSet, F1_on_train_dist,alpha = 0.6, c=\"darkorange\",   s=20, label = \"F1 with distance on train\")\n",
        "ax.scatter(kSet, F1_on_test_uni,  alpha = 0.6, c=\"lightskyblue\",  s=70, label = \"F1 with uniform on test\")\n",
        "ax.scatter(kSet, F1_on_test_dist, alpha = 0.6, c=\"gold\",s=20, label = \"F1 with distance on test\")\n",
        "\n",
        "# Adjust the side information\n",
        "ax.set_ylim([0.9,1.1])\n",
        "ax.set_xlim([0,10])\n",
        "plt.legend()\n",
        "plt.title('Performance of KNN')\n",
        "plt.xlabel('k-value')\n",
        "plt.ylabel('F1-score with uni./dist. algorithmen on train and test set')\n",
        "plt.show();"
      ],
      "execution_count": 70,
      "outputs": [
        {
          "output_type": "stream",
          "text": [
            "k=1\n",
            "r,p,F1 for classifier with uniform on train dataset are 1.000000,1.000000,1.000000\n",
            "r,p,F1 for classifier with distance on train dataset are 1.000000,1.000000,1.000000\n",
            "r,p,F1 for classifier with uniform on test dataset are 0.969697,0.960784,0.965220\n",
            "r,p,F1 for classifier with distance on test dataset are 0.969697,0.960784,0.965220\n",
            "k=5\n",
            "r,p,F1 for classifier with uniform on train dataset are 0.979592,0.975084,0.977333\n",
            "r,p,F1 for classifier with distance on train dataset are 1.000000,1.000000,1.000000\n",
            "r,p,F1 for classifier with uniform on test dataset are 0.969697,0.960784,0.965220\n",
            "r,p,F1 for classifier with distance on test dataset are 0.969697,0.960784,0.965220\n",
            "k=9\n",
            "r,p,F1 for classifier with uniform on train dataset are 0.979592,0.975084,0.977333\n",
            "r,p,F1 for classifier with distance on train dataset are 1.000000,1.000000,1.000000\n",
            "r,p,F1 for classifier with uniform on test dataset are 0.984848,0.980392,0.982615\n",
            "r,p,F1 for classifier with distance on test dataset are 0.984848,0.980392,0.982615\n"
          ],
          "name": "stdout"
        },
        {
          "output_type": "display_data",
          "data": {
            "image/png": "[encoded data removed]",
            "text/plain": [
              "<Figure size 432x288 with 1 Axes>"
            ]
          },
          "metadata": {
            "tags": [],
            "needs_background": "light"
          }
        }
      ]
    },
    {
      "cell_type": "markdown",
      "metadata": {
        "id": "QKIfZt5xAU1F"
      },
      "source": [
        "From the figure, we can get:\n",
        "- When k = 1, the F1-score value of training set either with uniform-weight or with distance-weight is the same and is best. And the F1-score value of testing set either with uniform-weight or with distance-weight is the same. The performance of training set is better than testing set.\n",
        "- When k = 5, the F1-score value of training set with uniform-weight is less than F1 value with distance-weight. And the F1-score value of testing set either with uniform-weight or with distance-weight is the same. The performance of training set with distance-weight is changed when k changes 1 to 5, whereas the testing set not changed.\n",
        "- When k = 9, the F1-score values of training set with both weights are the same as the value in k = 5. And the F1-score value of testing set either with uniform-weight or with distance-weight is also the same, but this time the F1 value is larger than the first 2 cases. The performance of training set is not changed when k changes 5 to 9, whereas the testing set changed and is better."
      ]
    },
    {
      "cell_type": "markdown",
      "metadata": {
        "id": "-MK8buU7AU1F"
      },
      "source": [
        "3) *(5 Points)* Explain why kNN with `k=1` achieves perfect results on the training data. Why is it not the best model?"
      ]
    },
    {
      "cell_type": "markdown",
      "metadata": {
        "id": "DIsypGRDAU1G"
      },
      "source": [
        "- Cause when we use KNN with k=1 on the training data, it will always find itself as the 1-nearest neighbor and the prediction is exactly the label of itself. \n",
        "But since we never have the same testing dataset and training dataset(otherwise the whole process is meaningless), and in fact, the testing dataset and training dataset hardly overlap in the reality, it is almost impossible to find exactly the same data point in the test dataset, which means this model doesn't work anymore."
      ]
    }
  ]
}