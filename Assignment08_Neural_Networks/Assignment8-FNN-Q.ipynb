{
 "cells": [
  {
   "cell_type": "code",
   "execution_count": null,
   "metadata": {},
   "outputs": [],
   "source": []
  },
  {
   "cell_type": "markdown",
   "metadata": {},
   "source": [
    "# Assignment 8: Neural Networks\n",
    "\n",
    "Only use the already imported library `numpy` and the Python standard library. For the evaluation you may also use scikit-learn (`sklearn`) and `matplotlib`. Make sure that the dataset `airfoil_self_noise.csv` is in the same directory as the notebook.\n",
    "\n",
    "List your team members (name and immatriculation number) and indicate whether you are a B.Sc. Data Science or other group in the following cell:"
   ]
  },
  {
   "cell_type": "markdown",
   "metadata": {},
   "source": [
    "==> *Write*\n",
    "* *names* \n",
    "* *matr. nr.* \n",
    "* *study program*\n",
    "* *B.Sc./M.Sc.*\n",
    "\n",
    "*of all assignment group participants here. (double klick here to edit)*"
   ]
  },
  {
   "cell_type": "code",
   "execution_count": 2,
   "metadata": {},
   "outputs": [],
   "source": [
    "import numpy as np\n",
    "\n",
    "def load_dataset(path):\n",
    "    from sklearn.model_selection import train_test_split\n",
    "    \n",
    "    data = np.genfromtxt(path)\n",
    "    X, y = data[:, :5], data[:, 5]\n",
    "    X_train, X_test, y_train, y_test = train_test_split(X, y, test_size=0.3, random_state=2020)\n",
    "\n",
    "    return X_train, X_test, y_train, y_test\n",
    "    \n",
    "\n",
    "X_train, X_test, y_train, y_test = load_dataset('airfoil_self_noise.csv')"
   ]
  },
  {
   "cell_type": "code",
   "execution_count": 3,
   "metadata": {},
   "outputs": [
    {
     "data": {
      "text/plain": [
       "((1052, 5), (451, 5), (1052,), (451,))"
      ]
     },
     "execution_count": 3,
     "metadata": {},
     "output_type": "execute_result"
    }
   ],
   "source": [
    "X_train.shape, X_test.shape, y_train.shape, y_test.shape"
   ]
  },
  {
   "cell_type": "code",
   "execution_count": 4,
   "metadata": {},
   "outputs": [
    {
     "data": {
      "text/plain": [
       "array([[5.00000e+03, 0.00000e+00, 2.28600e-01, 3.96000e+01, 2.53511e-03],\n",
       "       [1.00000e+04, 2.00000e+00, 2.28600e-01, 7.13000e+01, 2.93031e-03],\n",
       "       [3.15000e+03, 4.00000e+00, 2.28600e-01, 3.17000e+01, 5.09068e-03],\n",
       "       ...,\n",
       "       [1.25000e+03, 6.70000e+00, 1.01600e-01, 7.13000e+01, 4.78288e-03],\n",
       "       [3.15000e+02, 7.30000e+00, 2.28600e-01, 7.13000e+01, 1.04404e-02],\n",
       "       [1.60000e+03, 1.12000e+01, 5.08000e-02, 3.96000e+01, 1.50478e-02]])"
      ]
     },
     "execution_count": 4,
     "metadata": {},
     "output_type": "execute_result"
    }
   ],
   "source": [
    "X_train"
   ]
  },
  {
   "cell_type": "markdown",
   "metadata": {},
   "source": [
    "## Task 3: Feedforward Neural Network: Programming (40 Points)\n",
    "\n",
    "In this task, you will implement a feedforward neural network for regression. The hyperparameters of the model are:\n",
    "- `input_dim`: The dimension of the input vector.\n",
    "- `output_dim`: The dimension of the output vector.\n",
    "- `width`: The dimension of each hidden layer.\n",
    "- `depth`: The number of hidden layers. For B.Sc. Data Science students, this parameter is constant with a value of 1.\n",
    "- `learning_rate`: The learning rate for gradient descent.\n",
    "- `epochs`: The number of epochs/iterations performed during training.\n",
    "\n",
    "B.Sc. Data Science only have to implement for a single hidden layer, i.e. `depth = 1`. All other students have to implement the network for any `depth >= 1`.\n",
    "\n",
    "The activation function for each hidden layer is ReLU (g(x) = max(0, x)). The output layer uses the identity as activation, since our objective is regression.\n",
    "\n",
    "You have to implement the `FeedforwardNeuralNetworkRegressor`.\n",
    "\n",
    "The `__init__` method initializes the network.\n",
    "Initialize each weight and bias randomly with a standard Gaussian distribution using the numpy function `numpy.random.normal` with default parameters.\n",
    "\n",
    "The `fit` method trains the network.\n",
    "Use backpropagation with gradient descent similar to Task 2.\n",
    "Use the whole training data set for each training epoch.\n",
    "Use the mean squared error as loss function.\n",
    "\n",
    "The `predict` method computes the forward-pass of the network.\n",
    "\n",
    "Evaluate your classifier on the test data with the mean squared error and compare your results to your linear regression model from assignment 3. Try out different hyper-parameters and compare the results. You may want to normalize your input and output data for better performance."
   ]
  },
  {
   "cell_type": "code",
   "execution_count": 22,
   "metadata": {},
   "outputs": [
    {
     "data": {
      "text/plain": [
       "(5, 12)"
      ]
     },
     "execution_count": 22,
     "metadata": {},
     "output_type": "execute_result"
    }
   ],
   "source": [
    "# help(np.random.normal)\n",
    "input_dim, width = 5, 12\n",
    "weight_ih = np.random.normal(size=(input_dim, width))\n",
    "weight_ih.shape"
   ]
  },
  {
   "cell_type": "code",
   "execution_count": 15,
   "metadata": {},
   "outputs": [],
   "source": [
    "class FeedforwardNeuralNetworkClassifier(object):\n",
    "    def __init__(self, input_dim, output_dim, width, depth, learning_rate, epochs):\n",
    "        # Add your code, such as initialization of weights here.\n",
    "        self.input_dim = input_dim\n",
    "        self.output_dim = output_dim\n",
    "        self.width = width\n",
    "        self.depth = depth\n",
    "        self.learning_rate = learning_rate\n",
    "        self.epochs = epochs\n",
    "        self.weight = []\n",
    "\n",
    "        if len(width) >= 1:\n",
    "            width = np.asarray(width)\n",
    "        # input -> 1. hidden layer\n",
    "        self.weight.append(np.random.normal(size=(input_dim, width[0])))\n",
    "\n",
    "        # 1.hidden layer -> 2. hidden layer\n",
    "        # ...\n",
    "        if depth > 1:\n",
    "            for i in range(1, depth):\n",
    "                self.weight.append(np.random.normal(size=(width[i-1], width[i])))\n",
    "\n",
    "        # -1. hidden layer -> output layer\n",
    "        self.weight.append(np.random.normal(size=(width[-1], output_dim)))\n",
    "\n",
    "    def fit(self, X, y):\n",
    "        # Implement your training here.\n",
    "        # y_hat = ?\n",
    "        print(f'X: {X.shape}, y: {y.shape}')\n",
    "        for e in range(self.epochs):\n",
    "            print(f'epoch: {e}')\n",
    "            y_hat = []\n",
    "            for i, w in enumerate(self.weight):\n",
    "                print(f'w({i}) = {w.shape}')\n",
    "                if i == 0:\n",
    "                    y_hat = np.max(0, X @ w)\n",
    "                else:\n",
    "                    y_hat = np.max(0, y_hat @ w)\n",
    "                # self.weight[0].T @ X[0]\n",
    "            loss = np.mean((y_hat - y)**2)\n",
    "            # gradient_w -1, -2, ... 0\n",
    "            gn1 = d loss / d (w-1) = \n",
    "  \n",
    "    def predict(self, X):\n",
    "        # Implement your prediction here.\n",
    "        return None\n"
   ]
  },
  {
   "cell_type": "code",
   "execution_count": 16,
   "metadata": {},
   "outputs": [
    {
     "name": "stdout",
     "output_type": "stream",
     "text": [
      "X: (1052, 5), y: (1052,)\n",
      "epoch: 0\n",
      "w(0) = (5, 2)\n",
      "w(1) = (2, 3)\n",
      "w(2) = (3, 4)\n",
      "w(3) = (4, 1)\n",
      "epoch: 1\n",
      "w(0) = (5, 2)\n",
      "w(1) = (2, 3)\n",
      "w(2) = (3, 4)\n",
      "w(3) = (4, 1)\n",
      "epoch: 2\n",
      "w(0) = (5, 2)\n",
      "w(1) = (2, 3)\n",
      "w(2) = (3, 4)\n",
      "w(3) = (4, 1)\n",
      "epoch: 3\n",
      "w(0) = (5, 2)\n",
      "w(1) = (2, 3)\n",
      "w(2) = (3, 4)\n",
      "w(3) = (4, 1)\n",
      "epoch: 4\n",
      "w(0) = (5, 2)\n",
      "w(1) = (2, 3)\n",
      "w(2) = (3, 4)\n",
      "w(3) = (4, 1)\n"
     ]
    }
   ],
   "source": [
    "# Implement your training and evaluation here.\n",
    "input_dim = X_train.shape[1]\n",
    "output_dim = 1\n",
    "width = [2, 3, 4]\n",
    "depth = 3\n",
    "learning_rate = 0.1\n",
    "epochs = 5\n",
    "model = FeedforwardNeuralNetworkClassifier(input_dim, output_dim, width, depth, learning_rate, epochs)\n",
    "\n",
    "model.fit(X_train, y_train)"
   ]
  },
  {
   "cell_type": "code",
   "execution_count": null,
   "metadata": {},
   "outputs": [],
   "source": []
  }
 ],
 "metadata": {
  "interpreter": {
   "hash": "c87f6929dc8b55b5db08dcfb776fb4ea5e5774b82af95e6b28b049acfae158d4"
  },
  "kernelspec": {
   "display_name": "Python 3.8.5 64-bit ('base': conda)",
   "name": "python3"
  },
  "language_info": {
   "codemirror_mode": {
    "name": "ipython",
    "version": 3
   },
   "file_extension": ".py",
   "mimetype": "text/x-python",
   "name": "python",
   "nbconvert_exporter": "python",
   "pygments_lexer": "ipython3",
   "version": "3.8.5"
  }
 },
 "nbformat": 4,
 "nbformat_minor": 1
}